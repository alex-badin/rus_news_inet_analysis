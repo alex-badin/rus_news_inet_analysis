{
 "cells": [
  {
   "cell_type": "code",
   "execution_count": 46,
   "metadata": {},
   "outputs": [],
   "source": [
    "import requests\n",
    "import pandas as pd\n",
    "import numpy as np\n",
    "import time"
   ]
  },
  {
   "cell_type": "code",
   "execution_count": 3,
   "metadata": {},
   "outputs": [],
   "source": [
    "def similarweb(website):\n",
    "\turl = \"https://similarweb2.p.rapidapi.com/trafficoverview\"\n",
    "\tquerystring = {\"website\":\"https://www.\"+website}\n",
    "\n",
    "\theaders = {\n",
    "\t\t\"X-RapidAPI-Host\": \"similarweb2.p.rapidapi.com\",\n",
    "\t\t\"X-RapidAPI-Key\": \"b00f8a11c7msh7cb123610208633p1d2f21jsn969dea2cff92\"\n",
    "\t}\n",
    "\n",
    "\treturn requests.request(\"GET\", url, headers=headers, params=querystring)"
   ]
  },
  {
   "cell_type": "code",
   "execution_count": 4,
   "metadata": {},
   "outputs": [],
   "source": [
    "resp = similarweb('1tv.ru')"
   ]
  },
  {
   "cell_type": "code",
   "execution_count": 5,
   "metadata": {},
   "outputs": [
    {
     "data": {
      "text/plain": [
       "b'{\"engagement\":{\"avgVisitDuration\":188,\"bounceRate\":0.5693,\"pagesPerVisit\":2.28,\"totalVisits\":27128000},\"monthlyVisitsEstimate\":{\"2021-10-01\":22180000,\"2021-11-01\":23410000,\"2021-12-01\":27000000,\"2022-01-01\":21320000,\"2022-02-01\":38180000,\"2022-03-01\":27120000},\"name\":\"1tv.ru\",\"trafficShareByCountry\":[{\"Russian Federation\":0.8135},{\"Ukraine\":0.0579},{\"Belarus\":0.0245},{\"Germany\":0.0183},{\"United States\":0.0161}],\"trafficSources\":{\"Direct\":0.4514,\"Mail\":0.0058,\"Paid Referrals\":0.0001,\"Referrals\":0.0806,\"Search\":0.441,\"Social\":0.0209}}\\n'"
      ]
     },
     "execution_count": 5,
     "metadata": {},
     "output_type": "execute_result"
    }
   ],
   "source": [
    "resp.content"
   ]
  },
  {
   "cell_type": "code",
   "execution_count": 8,
   "metadata": {},
   "outputs": [
    {
     "name": "stdout",
     "output_type": "stream",
     "text": [
      "similar_web.ipynb\n",
      "Анализ медиа пространства_202011.xlsx\n",
      "Анализ медиа пространства_20220504.xlsx\n"
     ]
    }
   ],
   "source": [
    "ls"
   ]
  },
  {
   "cell_type": "code",
   "execution_count": 27,
   "metadata": {},
   "outputs": [],
   "source": [
    "# getting the list of websites\n",
    "df_sources = pd.read_excel('Анализ медиа пространства_20220504.xlsx', header=1)\n",
    "sites = df_sources['source'].to_list()"
   ]
  },
  {
   "cell_type": "code",
   "execution_count": 60,
   "metadata": {},
   "outputs": [],
   "source": [
    "# collecting info\n",
    "# sites = ['echo.msk.ru'] # не подгрузившиеся сайты\n",
    "df_traffic_all = []\n",
    "for website in sites:\n",
    "    # trying to get and read k times. if error try again.\n",
    "    k = 3\n",
    "    while k>0:\n",
    "        try:\n",
    "            response = similarweb(website)\n",
    "            df_traffic = pd.DataFrame({website:list(response.json()['monthlyVisitsEstimate'].values())}).T #often does not return proper repsonse (like not enough data)\n",
    "            df_traffic.columns = list(response.json()['monthlyVisitsEstimate'].keys())\n",
    "            k = 0\n",
    "        except:\n",
    "            k -= 1\n",
    "    df_traffic_all.append(df_traffic)\n",
    "    time. sleep(1)"
   ]
  },
  {
   "cell_type": "code",
   "execution_count": 51,
   "metadata": {},
   "outputs": [
    {
     "data": {
      "text/plain": [
       "b'{\"engagement\":{\"avgVisitDuration\":96,\"bounceRate\":0.7116,\"pagesPerVisit\":1.76,\"totalVisits\":12570000},\"monthlyVisitsEstimate\":{\"2021-10-01\":6973000,\"2021-11-01\":6608000,\"2021-12-01\":7132000,\"2022-01-01\":7561000,\"2022-02-01\":8360000,\"2022-03-01\":12570000},\"name\":\"forbes.ru\",\"trafficShareByCountry\":[{\"Russian Federation\":0.8154},{\"Ukraine\":0.0463},{\"Kazakhstan\":0.0252},{\"Belarus\":0.0245},{\"United States\":0.0137}],\"trafficSources\":{\"Direct\":0.5367,\"Mail\":0.0035,\"Paid Referrals\":0.0014,\"Referrals\":0.1091,\"Search\":0.2974,\"Social\":0.0515}}\\n'"
      ]
     },
     "execution_count": 51,
     "metadata": {},
     "output_type": "execute_result"
    }
   ],
   "source": [
    "similarweb(website).content"
   ]
  },
  {
   "cell_type": "code",
   "execution_count": 61,
   "metadata": {},
   "outputs": [],
   "source": [
    "(pd.concat(df_traffic_all)/1000000).to_clipboard(excel=True)"
   ]
  },
  {
   "cell_type": "code",
   "execution_count": null,
   "metadata": {},
   "outputs": [
    {
     "data": {
      "text/plain": [
       "(list,\n",
       " [{'Russian Federation': 0.5112},\n",
       "  {'United States': 0.0911},\n",
       "  {'Ukraine': 0.0774},\n",
       "  {'Germany': 0.0417},\n",
       "  {'Netherlands': 0.0293}])"
      ]
     },
     "metadata": {},
     "output_type": "display_data"
    }
   ],
   "source": [
    "param = 'trafficShareByCountry'\n",
    "type(response.json()[param]), response.json()[param]"
   ]
  },
  {
   "cell_type": "code",
   "execution_count": null,
   "metadata": {},
   "outputs": [
    {
     "data": {
      "text/plain": [
       "(dict,\n",
       " {'avgVisitDuration': 170,\n",
       "  'bounceRate': 0.6133,\n",
       "  'pagesPerVisit': 2.26,\n",
       "  'totalVisits': 207820000})"
      ]
     },
     "metadata": {},
     "output_type": "display_data"
    }
   ],
   "source": [
    "param = 'engagement'\n",
    "type(response.json()[param]), response.json()[param]"
   ]
  }
 ],
 "metadata": {
  "interpreter": {
   "hash": "f04e9d9503fc02916e732e0ca15418c91d0dcb99725da04f8a65fab59f1f0d78"
  },
  "kernelspec": {
   "display_name": "Python 3.9.7 ('base')",
   "language": "python",
   "name": "python3"
  },
  "language_info": {
   "codemirror_mode": {
    "name": "ipython",
    "version": 3
   },
   "file_extension": ".py",
   "mimetype": "text/x-python",
   "name": "python",
   "nbconvert_exporter": "python",
   "pygments_lexer": "ipython3",
   "version": "3.9.7"
  },
  "orig_nbformat": 4
 },
 "nbformat": 4,
 "nbformat_minor": 2
}
